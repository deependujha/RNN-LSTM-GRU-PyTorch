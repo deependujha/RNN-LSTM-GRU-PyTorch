{
 "cells": [
  {
   "cell_type": "code",
   "execution_count": 1,
   "metadata": {},
   "outputs": [],
   "source": [
    "import torch\n",
    "import torch.nn as nn\n",
    "import matplotlib.pyplot as plt"
   ]
  },
  {
   "cell_type": "markdown",
   "metadata": {},
   "source": [
    "---\n",
    "\n",
    "## RNN model\n",
    "\n",
    "![rnn name classification model](../assets/rnn-name-classification.png)"
   ]
  },
  {
   "cell_type": "code",
   "execution_count": 2,
   "metadata": {},
   "outputs": [],
   "source": [
    "class RNN(nn.Module):\n",
    "    # implement RNN from scratch rather than using nn.RNN\n",
    "    def __init__(self, input_size, hidden_size, output_size):\n",
    "        super(RNN, self).__init__()\n",
    "\n",
    "        self.hidden_size = hidden_size\n",
    "        self.i2h = nn.Linear(input_size + hidden_size, hidden_size)\n",
    "        self.i2o = nn.Linear(input_size + hidden_size, output_size)\n",
    "        self.softmax = nn.LogSoftmax(dim=1)\n",
    "\n",
    "    def forward(self, input_tensor, hidden_tensor):\n",
    "        combined = torch.cat((input_tensor, hidden_tensor), 1)\n",
    "\n",
    "        hidden = self.i2h(combined)\n",
    "        output = self.i2o(combined)\n",
    "        output = self.softmax(output)\n",
    "        return output, hidden\n",
    "\n",
    "    def init_hidden(self):\n",
    "        return torch.zeros(1, self.hidden_size)"
   ]
  },
  {
   "cell_type": "code",
   "execution_count": 3,
   "metadata": {},
   "outputs": [
    {
     "name": "stdout",
     "output_type": "stream",
     "text": [
      "n_categories: 18\n",
      "n_letters: 57\n",
      "all_categories: ['Czech', 'German', 'Arabic', 'Japanese', 'Chinese', 'Vietnamese', 'Russian', 'French', 'Irish', 'English', 'Spanish', 'Greek', 'Italian', 'Portuguese', 'Scottish', 'Dutch', 'Korean', 'Polish']\n"
     ]
    }
   ],
   "source": [
    "from utils import ALL_LETTERS, N_LETTERS\n",
    "from utils import (\n",
    "    load_data,\n",
    "    letter_to_tensor,\n",
    "    line_to_tensor,\n",
    "    random_training_example,\n",
    ")\n",
    "\n",
    "category_lines, all_categories = load_data()\n",
    "n_categories = len(all_categories)\n",
    "\n",
    "print(\"n_categories:\", n_categories)\n",
    "print(\"n_letters:\", N_LETTERS)\n",
    "print(\"all_categories:\", all_categories)"
   ]
  },
  {
   "cell_type": "code",
   "execution_count": 4,
   "metadata": {},
   "outputs": [],
   "source": [
    "n_hidden = 128\n",
    "rnn = RNN(N_LETTERS, n_hidden, n_categories)"
   ]
  },
  {
   "cell_type": "code",
   "execution_count": 5,
   "metadata": {},
   "outputs": [
    {
     "name": "stdout",
     "output_type": "stream",
     "text": [
      "output.size()=torch.Size([1, 18])\n",
      "next_hidden.size()=torch.Size([1, 128])\n"
     ]
    }
   ],
   "source": [
    "# one step\n",
    "input_tensor = letter_to_tensor(\"A\")\n",
    "hidden_tensor = rnn.init_hidden()\n",
    "\n",
    "output, next_hidden = rnn(input_tensor, hidden_tensor)\n",
    "print(f\"{output.size()=}\")\n",
    "print(f\"{next_hidden.size()=}\")"
   ]
  },
  {
   "cell_type": "code",
   "execution_count": 6,
   "metadata": {},
   "outputs": [
    {
     "name": "stdout",
     "output_type": "stream",
     "text": [
      "input_tensor.size()=torch.Size([6, 1, 57])\n",
      "torch.Size([1, 18])\n",
      "torch.Size([1, 128])\n"
     ]
    }
   ],
   "source": [
    "# whole sequence/name\n",
    "input_tensor = line_to_tensor(\"Albert\")\n",
    "hidden_tensor = rnn.init_hidden()\n",
    "print(f\"{input_tensor.size()=}\")\n",
    "\n",
    "output, next_hidden = rnn(input_tensor[0], hidden_tensor)\n",
    "print(output.size())\n",
    "print(next_hidden.size())"
   ]
  },
  {
   "cell_type": "code",
   "execution_count": 8,
   "metadata": {},
   "outputs": [
    {
     "name": "stdout",
     "output_type": "stream",
     "text": [
      "Portuguese\n"
     ]
    }
   ],
   "source": [
    "def category_from_output(output):\n",
    "    category_idx = torch.argmax(output).item()\n",
    "    return all_categories[category_idx]\n",
    "\n",
    "\n",
    "print(category_from_output(output))"
   ]
  },
  {
   "cell_type": "code",
   "execution_count": 12,
   "metadata": {},
   "outputs": [],
   "source": [
    "criterion = nn.NLLLoss()\n",
    "learning_rate = 0.005\n",
    "optimizer = torch.optim.SGD(rnn.parameters(), lr=learning_rate)"
   ]
  },
  {
   "cell_type": "code",
   "execution_count": 13,
   "metadata": {},
   "outputs": [],
   "source": [
    "def train(line_tensor, category_tensor):\n",
    "    hidden = rnn.init_hidden()\n",
    "\n",
    "    for i in range(line_tensor.size()[0]):\n",
    "        output, hidden = rnn(line_tensor[i], hidden)\n",
    "\n",
    "    loss = criterion(output, category_tensor)\n",
    "\n",
    "    optimizer.zero_grad() # zero the gradient\n",
    "    loss.backward() # backpropagation (and calculate the gradients)\n",
    "    optimizer.step() # update the weights (by the gradients calculated in the previous line)\n",
    "\n",
    "    return output, loss.item()"
   ]
  },
  {
   "cell_type": "code",
   "execution_count": 14,
   "metadata": {},
   "outputs": [
    {
     "name": "stdout",
     "output_type": "stream",
     "text": [
      "5000 5.0 2.7521 Cote / Japanese WRONG (French)\n",
      "10000 10.0 2.4813 Upjohn / Irish WRONG (English)\n",
      "15000 15.0 0.1248 Eliopoulos / Greek CORRECT\n",
      "20000 20.0 0.4084 Sabbag / Arabic CORRECT\n",
      "25000 25.0 2.7203 Hayden / Arabic WRONG (Irish)\n",
      "30000 30.0 1.2967 Joe / Korean WRONG (Chinese)\n",
      "35000 35.0 1.8138 Vicario / Portuguese WRONG (Spanish)\n",
      "40000 40.0 1.2140 Aldana / Italian WRONG (Spanish)\n",
      "45000 45.0 1.0448 Lauwers / Dutch CORRECT\n",
      "50000 50.0 1.0870 Cermak / Czech CORRECT\n",
      "55000 55.00000000000001 0.8190 Montagne / French CORRECT\n",
      "60000 60.0 1.4052 Tuma / Japanese WRONG (Arabic)\n",
      "65000 65.0 0.5112 Szweda / Polish CORRECT\n",
      "70000 70.0 1.1966 Demetrious / Portuguese WRONG (Greek)\n",
      "75000 75.0 1.1158 Kolijn / Dutch CORRECT\n",
      "80000 80.0 2.7371 Marquering / Italian WRONG (Dutch)\n",
      "85000 85.0 0.2691 Rooiakker / Dutch CORRECT\n",
      "90000 90.0 0.5818 Waclauska / Czech CORRECT\n",
      "95000 95.0 0.9584 Madden / Irish CORRECT\n",
      "100000 100.0 0.4609 Dobrolensky / Russian CORRECT\n"
     ]
    }
   ],
   "source": [
    "current_loss = 0\n",
    "all_losses = []\n",
    "plot_steps, print_steps = 1000, 5000\n",
    "n_iters = 100000\n",
    "for i in range(n_iters):\n",
    "    category, line, category_tensor, line_tensor = random_training_example(\n",
    "        category_lines, all_categories\n",
    "    )\n",
    "\n",
    "    output, loss = train(line_tensor, category_tensor)\n",
    "    current_loss += loss\n",
    "\n",
    "    if (i + 1) % plot_steps == 0:\n",
    "        all_losses.append(current_loss / plot_steps)\n",
    "        current_loss = 0\n",
    "\n",
    "    if (i + 1) % print_steps == 0:\n",
    "        guess = category_from_output(output)\n",
    "        correct = \"CORRECT\" if guess == category else f\"WRONG ({category})\"\n",
    "        print(f\"{i+1} {(i+1)/n_iters*100} {loss:.4f} {line} / {guess} {correct}\")"
   ]
  },
  {
   "cell_type": "code",
   "execution_count": 15,
   "metadata": {},
   "outputs": [
    {
     "data": {
      "image/png": "[encoded data removed]",
      "text/plain": [
       "<Figure size 640x480 with 1 Axes>"
      ]
     },
     "metadata": {},
     "output_type": "display_data"
    }
   ],
   "source": [
    "plt.figure()\n",
    "plt.plot(all_losses)\n",
    "plt.show()"
   ]
  },
  {
   "cell_type": "code",
   "execution_count": 17,
   "metadata": {},
   "outputs": [],
   "source": [
    "def predict(input_line):\n",
    "    print(f\"\\n> {input_line}\")\n",
    "    rnn.eval()\n",
    "    with torch.no_grad():\n",
    "        line_tensor = line_to_tensor(input_line)\n",
    "\n",
    "        hidden = rnn.init_hidden()\n",
    "\n",
    "        for i in range(line_tensor.size()[0]):\n",
    "            output, hidden = rnn(line_tensor[i], hidden)\n",
    "\n",
    "        guess = category_from_output(output)\n",
    "        print(guess)"
   ]
  },
  {
   "cell_type": "code",
   "execution_count": 19,
   "metadata": {},
   "outputs": [
    {
     "name": "stdout",
     "output_type": "stream",
     "text": [
      "\n",
      "> Deependu\n",
      "French\n",
      "\n",
      "> Abakumov\n",
      "Russian\n",
      "\n",
      "> Brzezicki\n",
      "Polish\n",
      "\n",
      "> Filipowski\n",
      "Polish\n",
      "\n",
      "> Fujimoto\n",
      "Japanese\n",
      "\n",
      "> Abdank-Kossovsky\n",
      "Russian\n",
      "\n",
      "> Aswad\n",
      "Arabic\n",
      "\n",
      "> Foong\n",
      "Italian\n",
      "\n",
      "> Fei\n",
      "Chinese\n",
      "\n",
      "> Baumgartner\n",
      "English\n"
     ]
    }
   ],
   "source": [
    "while True:\n",
    "    sentence = input(\"Input:\")\n",
    "    if sentence == \"quit\":\n",
    "        break\n",
    "\n",
    "    predict(sentence)"
   ]
  }
 ],
 "metadata": {
  "kernelspec": {
   "display_name": "Python 3",
   "language": "python",
   "name": "python3"
  },
  "language_info": {
   "codemirror_mode": {
    "name": "ipython",
    "version": 3
   },
   "file_extension": ".py",
   "mimetype": "text/x-python",
   "name": "python",
   "nbconvert_exporter": "python",
   "pygments_lexer": "ipython3",
   "version": "3.9.6"
  }
 },
 "nbformat": 4,
 "nbformat_minor": 2
}
